{
 "cells": [
  {
   "cell_type": "markdown",
   "metadata": {},
   "source": [
    "### Dataset Description"
   ]
  },
  {
   "cell_type": "markdown",
   "metadata": {},
   "source": [
    "A consulting firm working for Southwest Airlines would like to predict airfares using Airfares.csv, which contains data between Q3-1996 and Q2-1997.  The variables in these data are listed below.  Some airport-to-airport data (e.g., JFK-BWI) are available, but most data are at the city-to-city level (e.g., Atlanta-Boston).  A key question is whether the presence or absence of Southwest Airlines (a low-cost entrant) would have any effect on fare. \n",
    "\n",
    "S_CODE:  Starting airport’s code\n",
    "\n",
    "S_CITY:  Starting city\n",
    "\n",
    "E_CODE:  Ending airport’s code \n",
    "\n",
    "E_CITY: Ending city \n",
    "\n",
    "COUPON:  Average number of coupons for that route  (a one-coupon flight is a nonstop flight, a two-coupon flight is a one-stop flight, etc.) \n",
    "\n",
    "NEW:  Number of new carriers entering that route between Q3-96 and Q2-97 \n",
    "\n",
    "VACATION:  Whether (Yes) or not (No) a vacation route \n",
    "\n",
    "SW:  Whether (Yes) or not (No) Southwest Airlines serves that route \n",
    "\n",
    "HI:  Herfindahl index, a measure of market concentration  (higher number means smaller number of available carriers on that route) \n",
    "\n",
    "S_INCOME:  Starting city’s average personal income\n",
    "\n",
    "E_INCOME:  Ending city’s average personal income \n",
    "\n",
    "S_POP:  Starting city’s population \n",
    "\n",
    "E_POP:  Ending city’s population \n",
    "\n",
    "SLOT:  Whether or not either endpoint airport is slot-controlled (this is a measure of airport congestion) \n",
    "\n",
    "GATE:  Whether or not either endpoint airport has gate constraints (this is another measure of airport congestion) \n",
    "\n",
    "DISTANCE:  Distance between two endpoint airports in miles \n",
    "\n",
    "PAX:  Number of passengers on that route during period of data collection\n",
    " \n",
    "FARE:  Average fare on that route "
   ]
  },
  {
   "cell_type": "markdown",
   "metadata": {},
   "source": [
    "### Load requried Packages"
   ]
  },
  {
   "cell_type": "code",
   "execution_count": 182,
   "metadata": {},
   "outputs": [],
   "source": [
    "%matplotlib inline\n",
    "from pathlib import Path\n",
    "\n",
    "import numpy as np\n",
    "import pandas as pd\n",
    "from sklearn.model_selection import train_test_split\n",
    "from sklearn.linear_model import LinearRegression, Lasso, Ridge, LassoCV, BayesianRidge\n",
    "import statsmodels.formula.api as sm\n",
    "import matplotlib.pylab as plt\n",
    "import seaborn as sns\n",
    "import statistics as s\n",
    "from dmba import regressionSummary, exhaustive_search\n",
    "from dmba import backward_elimination, forward_selection, stepwise_selection\n",
    "from dmba import adjusted_r2_score, AIC_score, BIC_score\n",
    "\n",
    "custom_params = {\"axes.spines.right\": False, \"axes.spines.top\": False}\n",
    "sns.set_theme(style=\"white\", palette=\"terrain\", rc=custom_params)"
   ]
  },
  {
   "cell_type": "code",
   "execution_count": 55,
   "metadata": {},
   "outputs": [
    {
     "data": {
      "text/html": [
       "<div>\n",
       "<style scoped>\n",
       "    .dataframe tbody tr th:only-of-type {\n",
       "        vertical-align: middle;\n",
       "    }\n",
       "\n",
       "    .dataframe tbody tr th {\n",
       "        vertical-align: top;\n",
       "    }\n",
       "\n",
       "    .dataframe thead th {\n",
       "        text-align: right;\n",
       "    }\n",
       "</style>\n",
       "<table border=\"1\" class=\"dataframe\">\n",
       "  <thead>\n",
       "    <tr style=\"text-align: right;\">\n",
       "      <th></th>\n",
       "      <th>COUPON</th>\n",
       "      <th>NEW</th>\n",
       "      <th>VACATION</th>\n",
       "      <th>SW</th>\n",
       "      <th>HI</th>\n",
       "      <th>S_INCOME</th>\n",
       "      <th>E_INCOME</th>\n",
       "      <th>S_POP</th>\n",
       "      <th>E_POP</th>\n",
       "      <th>SLOT</th>\n",
       "      <th>GATE</th>\n",
       "      <th>DISTANCE</th>\n",
       "      <th>PAX</th>\n",
       "      <th>FARE</th>\n",
       "    </tr>\n",
       "  </thead>\n",
       "  <tbody>\n",
       "    <tr>\n",
       "      <th>0</th>\n",
       "      <td>1.00</td>\n",
       "      <td>3</td>\n",
       "      <td>No</td>\n",
       "      <td>Yes</td>\n",
       "      <td>5291.99</td>\n",
       "      <td>28637</td>\n",
       "      <td>21112</td>\n",
       "      <td>3036732</td>\n",
       "      <td>205711</td>\n",
       "      <td>Free</td>\n",
       "      <td>Free</td>\n",
       "      <td>312</td>\n",
       "      <td>7864</td>\n",
       "      <td>96.17</td>\n",
       "    </tr>\n",
       "    <tr>\n",
       "      <th>1</th>\n",
       "      <td>1.06</td>\n",
       "      <td>3</td>\n",
       "      <td>No</td>\n",
       "      <td>No</td>\n",
       "      <td>5419.16</td>\n",
       "      <td>26993</td>\n",
       "      <td>29838</td>\n",
       "      <td>3532657</td>\n",
       "      <td>7145897</td>\n",
       "      <td>Free</td>\n",
       "      <td>Free</td>\n",
       "      <td>576</td>\n",
       "      <td>8820</td>\n",
       "      <td>234.71</td>\n",
       "    </tr>\n",
       "    <tr>\n",
       "      <th>2</th>\n",
       "      <td>1.06</td>\n",
       "      <td>3</td>\n",
       "      <td>No</td>\n",
       "      <td>No</td>\n",
       "      <td>9185.28</td>\n",
       "      <td>30124</td>\n",
       "      <td>29838</td>\n",
       "      <td>5787293</td>\n",
       "      <td>7145897</td>\n",
       "      <td>Free</td>\n",
       "      <td>Free</td>\n",
       "      <td>364</td>\n",
       "      <td>6452</td>\n",
       "      <td>284.64</td>\n",
       "    </tr>\n",
       "    <tr>\n",
       "      <th>3</th>\n",
       "      <td>1.06</td>\n",
       "      <td>3</td>\n",
       "      <td>No</td>\n",
       "      <td>Yes</td>\n",
       "      <td>2657.35</td>\n",
       "      <td>29260</td>\n",
       "      <td>29838</td>\n",
       "      <td>7830332</td>\n",
       "      <td>7145897</td>\n",
       "      <td>Controlled</td>\n",
       "      <td>Free</td>\n",
       "      <td>612</td>\n",
       "      <td>25144</td>\n",
       "      <td>128.21</td>\n",
       "    </tr>\n",
       "    <tr>\n",
       "      <th>4</th>\n",
       "      <td>1.06</td>\n",
       "      <td>3</td>\n",
       "      <td>No</td>\n",
       "      <td>Yes</td>\n",
       "      <td>2657.35</td>\n",
       "      <td>29260</td>\n",
       "      <td>29838</td>\n",
       "      <td>7830332</td>\n",
       "      <td>7145897</td>\n",
       "      <td>Free</td>\n",
       "      <td>Free</td>\n",
       "      <td>612</td>\n",
       "      <td>25144</td>\n",
       "      <td>128.21</td>\n",
       "    </tr>\n",
       "  </tbody>\n",
       "</table>\n",
       "</div>"
      ],
      "text/plain": [
       "   COUPON  NEW VACATION   SW       HI  S_INCOME  E_INCOME    S_POP    E_POP  \\\n",
       "0    1.00    3       No  Yes  5291.99     28637     21112  3036732   205711   \n",
       "1    1.06    3       No   No  5419.16     26993     29838  3532657  7145897   \n",
       "2    1.06    3       No   No  9185.28     30124     29838  5787293  7145897   \n",
       "3    1.06    3       No  Yes  2657.35     29260     29838  7830332  7145897   \n",
       "4    1.06    3       No  Yes  2657.35     29260     29838  7830332  7145897   \n",
       "\n",
       "         SLOT  GATE  DISTANCE    PAX    FARE  \n",
       "0        Free  Free       312   7864   96.17  \n",
       "1        Free  Free       576   8820  234.71  \n",
       "2        Free  Free       364   6452  284.64  \n",
       "3  Controlled  Free       612  25144  128.21  \n",
       "4        Free  Free       612  25144  128.21  "
      ]
     },
     "execution_count": 55,
     "metadata": {},
     "output_type": "execute_result"
    }
   ],
   "source": [
    "airfare_df=pd.read_csv('Airfares.csv')\n",
    "df=airfare_df.drop(['S_CODE','S_CITY','E_CODE','E_CITY'],axis=1)\n",
    "df.head()"
   ]
  },
  {
   "cell_type": "markdown",
   "metadata": {},
   "source": [
    "## 1Question"
   ]
  },
  {
   "cell_type": "markdown",
   "metadata": {},
   "source": [
    "Create a correlation table and scatterplots between FARE and the predictors.What seems to be the best single predictor of FARE? Explain your answer. "
   ]
  },
  {
   "cell_type": "code",
   "execution_count": 56,
   "metadata": {},
   "outputs": [
    {
     "data": {
      "text/plain": [
       "<AxesSubplot:>"
      ]
     },
     "execution_count": 56,
     "metadata": {},
     "output_type": "execute_result"
    },
    {
     "data": {
      "image/png": "[encoded data removed]",
      "text/plain": [
       "<Figure size 432x288 with 2 Axes>"
      ]
     },
     "metadata": {},
     "output_type": "display_data"
    }
   ],
   "source": [
    "corr=df.corr()\n",
    "\n",
    "sns.heatmap(corr, xticklabels=corr.columns, yticklabels=corr.columns,annot=True,cmap=\"RdBu\")\n"
   ]
  },
  {
   "cell_type": "code",
   "execution_count": 57,
   "metadata": {},
   "outputs": [
    {
     "data": {
      "text/plain": [
       "[<matplotlib.lines.Line2D at 0x21ebd0d6fe0>]"
      ]
     },
     "execution_count": 57,
     "metadata": {},
     "output_type": "execute_result"
    },
    {
     "data": {
      "image/png": "[encoded data removed]",
      "text/plain": [
       "<Figure size 432x288 with 1 Axes>"
      ]
     },
     "metadata": {},
     "output_type": "display_data"
    }
   ],
   "source": [
    "x = airfare_df.PAX\n",
    "y = airfare_df.FARE\n",
    "m, b = np.polyfit(x, y, 1)\n",
    "plt.plot(x, y, '.')\n",
    "\n",
    "plt.plot(x, m*x + b)\n",
    "\n"
   ]
  },
  {
   "cell_type": "code",
   "execution_count": 58,
   "metadata": {},
   "outputs": [
    {
     "data": {
      "text/plain": [
       "[<matplotlib.lines.Line2D at 0x21ebd461c00>]"
      ]
     },
     "execution_count": 58,
     "metadata": {},
     "output_type": "execute_result"
    },
    {
     "data": {
      "image/png": "[encoded data removed]",
      "text/plain": [
       "<Figure size 432x288 with 1 Axes>"
      ]
     },
     "metadata": {},
     "output_type": "display_data"
    }
   ],
   "source": [
    "x = airfare_df.DISTANCE\n",
    "y = airfare_df.FARE\n",
    "m, b = np.polyfit(x, y, 1)\n",
    "plt.plot(x, y, '.')\n",
    "\n",
    "plt.plot(x, m*x + b)"
   ]
  },
  {
   "cell_type": "code",
   "execution_count": 59,
   "metadata": {},
   "outputs": [
    {
     "data": {
      "text/plain": [
       "[<matplotlib.lines.Line2D at 0x21ebd5bc220>]"
      ]
     },
     "execution_count": 59,
     "metadata": {},
     "output_type": "execute_result"
    },
    {
     "data": {
      "image/png": "[encoded data removed]",
      "text/plain": [
       "<Figure size 432x288 with 1 Axes>"
      ]
     },
     "metadata": {},
     "output_type": "display_data"
    }
   ],
   "source": [
    "x = airfare_df.E_POP\n",
    "y = airfare_df.FARE\n",
    "m, b = np.polyfit(x, y, 1)\n",
    "plt.plot(x, y, '.')\n",
    "\n",
    "plt.plot(x, m*x + b)"
   ]
  },
  {
   "cell_type": "code",
   "execution_count": 60,
   "metadata": {},
   "outputs": [
    {
     "data": {
      "text/plain": [
       "[<matplotlib.lines.Line2D at 0x21ebd5d25f0>]"
      ]
     },
     "execution_count": 60,
     "metadata": {},
     "output_type": "execute_result"
    },
    {
     "data": {
      "image/png": "[encoded data removed]",
      "text/plain": [
       "<Figure size 432x288 with 1 Axes>"
      ]
     },
     "metadata": {},
     "output_type": "display_data"
    }
   ],
   "source": [
    "x = airfare_df.S_POP\n",
    "y = airfare_df.FARE\n",
    "m, b = np.polyfit(x, y, 1)\n",
    "plt.plot(x, y, '.')\n",
    "\n",
    "plt.plot(x, m*x + b)"
   ]
  },
  {
   "cell_type": "code",
   "execution_count": 61,
   "metadata": {},
   "outputs": [
    {
     "data": {
      "text/plain": [
       "[<matplotlib.lines.Line2D at 0x21ebd604ac0>]"
      ]
     },
     "execution_count": 61,
     "metadata": {},
     "output_type": "execute_result"
    },
    {
     "data": {
      "image/png": "[encoded data removed]",
      "text/plain": [
       "<Figure size 432x288 with 1 Axes>"
      ]
     },
     "metadata": {},
     "output_type": "display_data"
    }
   ],
   "source": [
    "x = airfare_df.E_INCOME\n",
    "y = airfare_df.FARE\n",
    "m, b = np.polyfit(x, y, 1)\n",
    "plt.plot(x, y, '.')\n",
    "\n",
    "plt.plot(x, m*x + b)\n"
   ]
  },
  {
   "cell_type": "code",
   "execution_count": 62,
   "metadata": {},
   "outputs": [
    {
     "data": {
      "text/plain": [
       "[<matplotlib.lines.Line2D at 0x21ebd623250>]"
      ]
     },
     "execution_count": 62,
     "metadata": {},
     "output_type": "execute_result"
    },
    {
     "data": {
      "image/png": "[encoded data removed]",
      "text/plain": [
       "<Figure size 432x288 with 1 Axes>"
      ]
     },
     "metadata": {},
     "output_type": "display_data"
    }
   ],
   "source": [
    "x = airfare_df.S_INCOME\n",
    "y = airfare_df.FARE\n",
    "m, b = np.polyfit(x, y, 1)\n",
    "plt.plot(x, y, '.')\n",
    "\n",
    "plt.plot(x, m*x + b)"
   ]
  },
  {
   "cell_type": "code",
   "execution_count": 63,
   "metadata": {},
   "outputs": [
    {
     "data": {
      "text/plain": [
       "[<matplotlib.lines.Line2D at 0x21ebd671b70>]"
      ]
     },
     "execution_count": 63,
     "metadata": {},
     "output_type": "execute_result"
    },
    {
     "data": {
      "image/png": "[encoded data removed]",
      "text/plain": [
       "<Figure size 432x288 with 1 Axes>"
      ]
     },
     "metadata": {},
     "output_type": "display_data"
    }
   ],
   "source": [
    "x = airfare_df.HI\n",
    "y = airfare_df.FARE\n",
    "m, b = np.polyfit(x, y, 1)\n",
    "plt.plot(x, y, '.')\n",
    "\n",
    "plt.plot(x, m*x + b)"
   ]
  },
  {
   "cell_type": "code",
   "execution_count": 64,
   "metadata": {},
   "outputs": [
    {
     "data": {
      "text/plain": [
       "[<matplotlib.lines.Line2D at 0x21ebd6affa0>]"
      ]
     },
     "execution_count": 64,
     "metadata": {},
     "output_type": "execute_result"
    },
    {
     "data": {
      "image/png": "[encoded data removed]",
      "text/plain": [
       "<Figure size 432x288 with 1 Axes>"
      ]
     },
     "metadata": {},
     "output_type": "display_data"
    }
   ],
   "source": [
    "x = airfare_df.NEW\n",
    "y = airfare_df.FARE\n",
    "m, b = np.polyfit(x, y, 1)\n",
    "plt.plot(x, y, '.')\n",
    "\n",
    "plt.plot(x, m*x + b)"
   ]
  },
  {
   "cell_type": "code",
   "execution_count": 65,
   "metadata": {},
   "outputs": [
    {
     "data": {
      "text/plain": [
       "[<matplotlib.lines.Line2D at 0x21ebd706e60>]"
      ]
     },
     "execution_count": 65,
     "metadata": {},
     "output_type": "execute_result"
    },
    {
     "data": {
      "image/png": "[encoded data removed]",
      "text/plain": [
       "<Figure size 432x288 with 1 Axes>"
      ]
     },
     "metadata": {},
     "output_type": "display_data"
    }
   ],
   "source": [
    "x = airfare_df.COUPON\n",
    "y = airfare_df.FARE\n",
    "m, b = np.polyfit(x, y, 1)\n",
    "plt.plot(x, y, '.')\n",
    "\n",
    "plt.plot(x, m*x + b)"
   ]
  },
  {
   "cell_type": "markdown",
   "metadata": {},
   "source": [
    "### 1Q Response"
   ]
  },
  {
   "cell_type": "markdown",
   "metadata": {},
   "source": [
    "From Correlation matrix we can say that :\n",
    "Variables COUPON and DISTANCE(0.75),FARE and DISTANCE(0.67), has strong positive correlation (when one variable increases then the other also increases or if one variable decreases then the other also decreases)\n",
    "Variables COUPON and HI(-0.35),COUPON and FAX(-0.34),DISTANCE and HI(-0.31) has strong negative correlation (when one variable decreases then the other increases or when one variable increases then other decreases)\n",
    "With Respect to FARE:FARE has a strong correlation with DISTANCE(0.67),COUPON(0.49),E_INCOME(0.32),E_POP(0.27) hence positive change can also be seen in the graphs above.\n",
    "\n",
    "Based on the scatter plots presented above, we can conclude that as the distance increases, so will the fare, as the two variables have the largest positive association."
   ]
  },
  {
   "cell_type": "markdown",
   "metadata": {},
   "source": [
    "## 2Question"
   ]
  },
  {
   "cell_type": "markdown",
   "metadata": {},
   "source": [
    "Explore the categorical predictors by computing the percentage of flights in each category. Create a pivot table with the average fare in each category.Which categorical predictor seems best for predicting FARE? Explain your answer. "
   ]
  },
  {
   "cell_type": "code",
   "execution_count": 171,
   "metadata": {},
   "outputs": [
    {
     "name": "stdout",
     "output_type": "stream",
     "text": [
      "Percentage of Flights: \n",
      " No     73.4\n",
      "Yes    26.6\n",
      "Name: VACATION, dtype: float64\n"
     ]
    },
    {
     "data": {
      "text/html": [
       "<div>\n",
       "<style scoped>\n",
       "    .dataframe tbody tr th:only-of-type {\n",
       "        vertical-align: middle;\n",
       "    }\n",
       "\n",
       "    .dataframe tbody tr th {\n",
       "        vertical-align: top;\n",
       "    }\n",
       "\n",
       "    .dataframe thead th {\n",
       "        text-align: right;\n",
       "    }\n",
       "</style>\n",
       "<table border=\"1\" class=\"dataframe\">\n",
       "  <thead>\n",
       "    <tr style=\"text-align: right;\">\n",
       "      <th></th>\n",
       "      <th>mean</th>\n",
       "      <th>sum</th>\n",
       "    </tr>\n",
       "    <tr>\n",
       "      <th>VACATION</th>\n",
       "      <th></th>\n",
       "      <th></th>\n",
       "    </tr>\n",
       "  </thead>\n",
       "  <tbody>\n",
       "    <tr>\n",
       "      <th>No</th>\n",
       "      <td>239.215791</td>\n",
       "      <td>111952.99</td>\n",
       "    </tr>\n",
       "    <tr>\n",
       "      <th>Yes</th>\n",
       "      <td>168.327059</td>\n",
       "      <td>28615.60</td>\n",
       "    </tr>\n",
       "  </tbody>\n",
       "</table>\n",
       "</div>"
      ],
      "text/plain": [
       "                mean        sum\n",
       "VACATION                       \n",
       "No        239.215791  111952.99\n",
       "Yes       168.327059   28615.60"
      ]
     },
     "execution_count": 171,
     "metadata": {},
     "output_type": "execute_result"
    }
   ],
   "source": [
    "c=(df.VACATION.value_counts()/len(df)).round(3)*100\n",
    "print(\"Percentage of Flights: \\n\",c)\n",
    "df.pivot_table('FARE','VACATION',aggfunc={'mean','sum'})"
   ]
  },
  {
   "cell_type": "code",
   "execution_count": 170,
   "metadata": {},
   "outputs": [
    {
     "name": "stdout",
     "output_type": "stream",
     "text": [
      "Percentage of Flights: \n",
      "  No     69.6\n",
      "Yes    30.4\n",
      "Name: SW, dtype: float64\n"
     ]
    },
    {
     "data": {
      "text/html": [
       "<div>\n",
       "<style scoped>\n",
       "    .dataframe tbody tr th:only-of-type {\n",
       "        vertical-align: middle;\n",
       "    }\n",
       "\n",
       "    .dataframe tbody tr th {\n",
       "        vertical-align: top;\n",
       "    }\n",
       "\n",
       "    .dataframe thead th {\n",
       "        text-align: right;\n",
       "    }\n",
       "</style>\n",
       "<table border=\"1\" class=\"dataframe\">\n",
       "  <thead>\n",
       "    <tr style=\"text-align: right;\">\n",
       "      <th></th>\n",
       "      <th>mean</th>\n",
       "      <th>sum</th>\n",
       "    </tr>\n",
       "    <tr>\n",
       "      <th>SW</th>\n",
       "      <th></th>\n",
       "      <th></th>\n",
       "    </tr>\n",
       "  </thead>\n",
       "  <tbody>\n",
       "    <tr>\n",
       "      <th>No</th>\n",
       "      <td>256.675428</td>\n",
       "      <td>113963.89</td>\n",
       "    </tr>\n",
       "    <tr>\n",
       "      <th>Yes</th>\n",
       "      <td>137.137629</td>\n",
       "      <td>26604.70</td>\n",
       "    </tr>\n",
       "  </tbody>\n",
       "</table>\n",
       "</div>"
      ],
      "text/plain": [
       "           mean        sum\n",
       "SW                        \n",
       "No   256.675428  113963.89\n",
       "Yes  137.137629   26604.70"
      ]
     },
     "execution_count": 170,
     "metadata": {},
     "output_type": "execute_result"
    }
   ],
   "source": [
    "c=(df.SW.value_counts()/len(df)).round(3)*100\n",
    "print(\"Percentage of Flights: \\n \",c)\n",
    "df.pivot_table('FARE','SW',aggfunc={'mean','sum'})"
   ]
  },
  {
   "cell_type": "code",
   "execution_count": 169,
   "metadata": {},
   "outputs": [
    {
     "name": "stdout",
     "output_type": "stream",
     "text": [
      "Percentage of Flights: \n",
      "  Free          71.5\n",
      "Controlled    28.5\n",
      "Name: SLOT, dtype: float64\n"
     ]
    },
    {
     "data": {
      "text/html": [
       "<div>\n",
       "<style scoped>\n",
       "    .dataframe tbody tr th:only-of-type {\n",
       "        vertical-align: middle;\n",
       "    }\n",
       "\n",
       "    .dataframe tbody tr th {\n",
       "        vertical-align: top;\n",
       "    }\n",
       "\n",
       "    .dataframe thead th {\n",
       "        text-align: right;\n",
       "    }\n",
       "</style>\n",
       "<table border=\"1\" class=\"dataframe\">\n",
       "  <thead>\n",
       "    <tr style=\"text-align: right;\">\n",
       "      <th></th>\n",
       "      <th>mean</th>\n",
       "      <th>sum</th>\n",
       "    </tr>\n",
       "    <tr>\n",
       "      <th>SLOT</th>\n",
       "      <th></th>\n",
       "      <th></th>\n",
       "    </tr>\n",
       "  </thead>\n",
       "  <tbody>\n",
       "    <tr>\n",
       "      <th>Controlled</th>\n",
       "      <td>253.575385</td>\n",
       "      <td>46150.72</td>\n",
       "    </tr>\n",
       "    <tr>\n",
       "      <th>Free</th>\n",
       "      <td>207.056732</td>\n",
       "      <td>94417.87</td>\n",
       "    </tr>\n",
       "  </tbody>\n",
       "</table>\n",
       "</div>"
      ],
      "text/plain": [
       "                  mean       sum\n",
       "SLOT                            \n",
       "Controlled  253.575385  46150.72\n",
       "Free        207.056732  94417.87"
      ]
     },
     "execution_count": 169,
     "metadata": {},
     "output_type": "execute_result"
    }
   ],
   "source": [
    "c=(df.SLOT.value_counts()/len(df)).round(3)*100\n",
    "print(\"Percentage of Flights: \\n \",c)\n",
    "df.pivot_table('FARE','SLOT',aggfunc={'mean','sum'})"
   ]
  },
  {
   "cell_type": "code",
   "execution_count": 168,
   "metadata": {},
   "outputs": [
    {
     "name": "stdout",
     "output_type": "stream",
     "text": [
      "Percentage of Flights: \n",
      "  Free           80.6\n",
      "Constrained    19.4\n",
      "Name: GATE, dtype: float64\n"
     ]
    },
    {
     "data": {
      "text/html": [
       "<div>\n",
       "<style scoped>\n",
       "    .dataframe tbody tr th:only-of-type {\n",
       "        vertical-align: middle;\n",
       "    }\n",
       "\n",
       "    .dataframe tbody tr th {\n",
       "        vertical-align: top;\n",
       "    }\n",
       "\n",
       "    .dataframe thead th {\n",
       "        text-align: right;\n",
       "    }\n",
       "</style>\n",
       "<table border=\"1\" class=\"dataframe\">\n",
       "  <thead>\n",
       "    <tr style=\"text-align: right;\">\n",
       "      <th></th>\n",
       "      <th>mean</th>\n",
       "      <th>sum</th>\n",
       "    </tr>\n",
       "    <tr>\n",
       "      <th>GATE</th>\n",
       "      <th></th>\n",
       "      <th></th>\n",
       "    </tr>\n",
       "  </thead>\n",
       "  <tbody>\n",
       "    <tr>\n",
       "      <th>Constrained</th>\n",
       "      <td>263.784839</td>\n",
       "      <td>32709.32</td>\n",
       "    </tr>\n",
       "    <tr>\n",
       "      <th>Free</th>\n",
       "      <td>209.842938</td>\n",
       "      <td>107859.27</td>\n",
       "    </tr>\n",
       "  </tbody>\n",
       "</table>\n",
       "</div>"
      ],
      "text/plain": [
       "                   mean        sum\n",
       "GATE                              \n",
       "Constrained  263.784839   32709.32\n",
       "Free         209.842938  107859.27"
      ]
     },
     "execution_count": 168,
     "metadata": {},
     "output_type": "execute_result"
    }
   ],
   "source": [
    "c=(df.GATE.value_counts()/len(df)).round(3)*100\n",
    "print(\"Percentage of Flights: \\n \",c)\n",
    "df.pivot_table('FARE','GATE',aggfunc={'mean','sum'})"
   ]
  },
  {
   "cell_type": "markdown",
   "metadata": {},
   "source": [
    "Vaction category having a mean of 168.327059 for positive response where as SW category having a mean of 137.137629 for positive response.In comparison of both vaction category is having more mean when compared to SW category so vaction predictor seems best for predicting FARE when both vaction and sw  are compared.\n",
    "\n",
    "SLOT category having a mean of 207.056732  for  free response where as GATE category having a mean of 209.842938 for free response. In comparison of both GATE category is having more mean when compared to SLOT category so GATE predictor seems best for predicting FARE when both SLOT and GATE  are compared. \n",
    "\n"
   ]
  },
  {
   "cell_type": "markdown",
   "metadata": {},
   "source": [
    "## 3Question"
   ]
  },
  {
   "cell_type": "markdown",
   "metadata": {},
   "source": [
    "Create data partition by assigning 80% of the records to the training dataset. Set the seed at 123 for replicability, if needed."
   ]
  },
  {
   "cell_type": "code",
   "execution_count": 173,
   "metadata": {},
   "outputs": [
    {
     "data": {
      "text/plain": [
       "COUPON       0\n",
       "NEW          0\n",
       "VACATION     0\n",
       "SW           0\n",
       "HI           0\n",
       "S_INCOME     0\n",
       "E_INCOME     0\n",
       "S_POP        0\n",
       "E_POP        0\n",
       "SLOT         0\n",
       "GATE         0\n",
       "DISTANCE     0\n",
       "PAX          0\n",
       "FARE         0\n",
       "%VACATION    0\n",
       "dtype: int64"
      ]
     },
     "execution_count": 173,
     "metadata": {},
     "output_type": "execute_result"
    }
   ],
   "source": [
    "df.isnull().sum()\n"
   ]
  },
  {
   "cell_type": "code",
   "execution_count": 175,
   "metadata": {},
   "outputs": [
    {
     "data": {
      "text/plain": [
       "(638, 15)"
      ]
     },
     "execution_count": 175,
     "metadata": {},
     "output_type": "execute_result"
    }
   ],
   "source": [
    "df.dropna()\n",
    "df.shape"
   ]
  },
  {
   "cell_type": "code",
   "execution_count": 180,
   "metadata": {},
   "outputs": [
    {
     "name": "stdout",
     "output_type": "stream",
     "text": [
      "(510, 12) (128, 12) (510,) (128,)\n"
     ]
    },
    {
     "data": {
      "text/plain": [
       "511    263.25\n",
       "298    318.84\n",
       "177    212.57\n",
       "403    116.43\n",
       "171    148.17\n",
       "Name: FARE, dtype: float64"
      ]
     },
     "execution_count": 180,
     "metadata": {},
     "output_type": "execute_result"
    }
   ],
   "source": [
    "reg = LinearRegression()\n",
    "X = pd.get_dummies(df[['COUPON','NEW','VACATION','SW','HI','S_INCOME','E_INCOME','S_POP','E_POP','SLOT','GATE','DISTANCE']], drop_first=True)\n",
    "Y = df['FARE']\n",
    "train_X, valid_X, train_y, valid_y = train_test_split(X, Y, test_size=0.2, random_state=123)\n",
    "reg.fit(train_X,train_y)\n",
    "print(train_X.shape, valid_X.shape, train_y.shape, valid_y.shape)\n",
    "train_y.head()"
   ]
  },
  {
   "cell_type": "markdown",
   "metadata": {},
   "source": [
    "To train the dataset, we need to check for count of nulls present by using pre-defined function \"df.isnull().sum()\". After checking the null values in the dataset, it is eliminated with function \"df.dropna()\". The \"df.dropna()\" pre-defined function removes rows and columns with null/none values. To know the remaining number of columns and rows, \"df.shape\" is used. From the above dataset, they are 638 rows and 15 columns after cleansing the data.\n",
    "\n",
    "Now, let's apply the linear regression function to the predict the target variable based on independent variables. The \"pd.get_dummies()\" function is used to transform the categorical variables into dummy variables (i.e., 0 and 1 depending upon the count of input variables). In that way, input variables are transformed. The target variable \"Fare\" column is stored in variable Y.\n",
    "\n",
    "After the data manipulation, the training and testing dataset is divided into 80% and 20% respectively by using \"train_test_split\" function with random_state given 123. Now, the fit() function is applied to the train dataset in order to get ideal regression line that fits the distribution of input X and target Y as shown above."
   ]
  },
  {
   "cell_type": "markdown",
   "metadata": {},
   "source": [
    "## 4Question"
   ]
  },
  {
   "cell_type": "markdown",
   "metadata": {},
   "source": [
    "Run a stepwise selection regression model to reduce the number of predictors. \n",
    "Discuss the results from this model."
   ]
  },
  {
   "cell_type": "code",
   "execution_count": 183,
   "metadata": {},
   "outputs": [
    {
     "name": "stdout",
     "output_type": "stream",
     "text": [
      "intercept  -34.12240758742331\n",
      "\n",
      "Regression statistics\n",
      "\n",
      "                      Mean Error (ME) : 0.0000\n",
      "       Root Mean Squared Error (RMSE) : 51.8657\n",
      "            Mean Absolute Error (MAE) : 41.1329\n",
      "          Mean Percentage Error (MPE) : -4.8021\n",
      "Mean Absolute Percentage Error (MAPE) : 22.2618\n"
     ]
    }
   ],
   "source": [
    "print('intercept ', reg.intercept_)\n",
    "regressionSummary(train_y, reg.predict(train_X))"
   ]
  },
  {
   "cell_type": "code",
   "execution_count": 184,
   "metadata": {},
   "outputs": [
    {
     "name": "stdout",
     "output_type": "stream",
     "text": [
      "\n",
      "Regression statistics\n",
      "\n",
      "                      Mean Error (ME) : -1.4011\n",
      "       Root Mean Squared Error (RMSE) : 55.7883\n",
      "            Mean Absolute Error (MAE) : 44.2052\n",
      "          Mean Percentage Error (MPE) : -6.2291\n",
      "Mean Absolute Percentage Error (MAPE) : 22.7895\n"
     ]
    }
   ],
   "source": [
    "y_predict =reg.predict(valid_X)\n",
    "regressionSummary(valid_y,y_predict)"
   ]
  },
  {
   "cell_type": "markdown",
   "metadata": {},
   "source": [
    "def train_model(variables): \n",
    "    if len(variables) == 0:\n",
    "        return None\n",
    "    model = LinearRegression()\n",
    "    model.fit(train_X[variables], train_y)\n",
    "    return model\n",
    "\n",
    "def score_model(model, variables):\n",
    "    if len(variables) == 0:\n",
    "        return AIC_score(train_y, [train_y.mean()] * len(train_y), model, df=1)\n",
    "    return AIC_score(train_y, model.predict(train_X[variables]), model)\n",
    "\n",
    "best_model, best_variables = stepwise_selection(train_X.columns, train_model, score_model, verbose=True)\n",
    "\n",
    "print(\"Best variables according to stepwise selection model\",best_variables)\n",
    "\n",
    "regressionSummary(valid_y, best_model.predict(valid_X[best_variables]))"
   ]
  },
  {
   "cell_type": "markdown",
   "metadata": {},
   "source": [
    "In order to reduce number of predictors, let's know the statistics of the training dataset by using \"regressionSummary()\" which shows the Mean Error, Root Mean Squared Error, Mean Absolute Error, Mean Percentage Error, Mean Absolute Percentage Error as shown above for validation and train data respectively.\n",
    "\n",
    "From statistics, we can observe that error for train Y is less comparatively with validation Y. Further, to select the more important variables, we input the variables to stepwise_selection funnction. Based on the score, variable selection is decided.\n",
    "\n",
    "As shown above, 'Distance', 'Vacation_Yes', 'SW_Yes', 'Hi', 'Slot_Free', 'Gate_Free', 'E_Income', 'S_Pop', 'Coupon', 'E_Pop', 'New', 'S_Income' are the best variables.\n",
    "\n",
    "Regression Statistics are calculated for Validation X variables."
   ]
  },
  {
   "cell_type": "markdown",
   "metadata": {},
   "source": [
    "## 5Question"
   ]
  },
  {
   "cell_type": "markdown",
   "metadata": {},
   "source": [
    "Repeat the process in (4) using exhaustive search instead of forward selection."
   ]
  },
  {
   "cell_type": "code",
   "execution_count": 186,
   "metadata": {},
   "outputs": [
    {
     "name": "stdout",
     "output_type": "stream",
     "text": [
      "     n     r2adj          AIC  COUPON  DISTANCE  E_INCOME  E_POP  GATE_Free     HI    NEW  SLOT_Free  SW_Yes  S_INCOME  S_POP  VACATION_Yes\n",
      "0    1  0.422733  5921.793145   False      True     False  False      False  False  False      False   False     False  False         False\n",
      "1    2  0.557236  5787.501775   False      True     False  False      False  False  False      False   False     False  False          True\n",
      "2    3  0.679770  5623.256534   False      True     False  False      False  False  False      False    True     False  False          True\n",
      "3    4  0.710033  5573.619061   False      True     False  False      False   True  False      False    True     False  False          True\n",
      "4    5  0.725451  5546.743418   False      True     False  False      False   True  False       True    True     False  False          True\n",
      "5    6  0.738784  5522.339862   False      True     False  False       True   True  False       True    True     False  False          True\n",
      "6    7  0.740603  5519.762656   False      True      True  False       True   True  False       True    True     False  False          True\n",
      "7    8  0.745539  5510.947655   False      True     False   True       True   True  False       True    True     False   True          True\n",
      "8    9  0.748428  5506.105338    True      True     False   True       True   True  False       True    True     False   True          True\n",
      "9   10  0.749990  5503.906558    True      True      True   True       True   True  False       True    True     False   True          True\n",
      "10  11  0.750793  5503.244217    True      True      True   True       True   True   True       True    True     False   True          True\n",
      "11  12  0.751413  5502.947353    True      True      True   True       True   True   True       True    True      True   True          True\n",
      "Index(['n', 'r2adj', 'AIC', 'COUPON', 'NEW', 'HI', 'S_INCOME', 'E_INCOME',\n",
      "       'S_POP', 'E_POP', 'DISTANCE', 'VACATION_Yes', 'SW_Yes', 'SLOT_Free',\n",
      "       'GATE_Free'],\n",
      "      dtype='object')\n",
      "\n",
      " \n",
      " Best variables according to exhaustive model: \n",
      " ['COUPON', 'NEW', 'HI', 'S_INCOME', 'E_INCOME', 'S_POP', 'E_POP', 'DISTANCE', 'VACATION_Yes', 'SW_Yes', 'SLOT_Free', 'GATE_Free']\n",
      "\n",
      "Regression statistics\n",
      "\n",
      "                      Mean Error (ME) : -1.4011\n",
      "       Root Mean Squared Error (RMSE) : 55.7883\n",
      "            Mean Absolute Error (MAE) : 44.2052\n",
      "          Mean Percentage Error (MPE) : -6.2291\n",
      "Mean Absolute Percentage Error (MAPE) : 22.7895\n"
     ]
    }
   ],
   "source": [
    "def train_model(variables):\n",
    "    model = LinearRegression()\n",
    "    model.fit(train_X[variables], train_y)\n",
    "    return model\n",
    "\n",
    "def score_model(model, variables):\n",
    "    pred_y = model.predict(train_X[variables])\n",
    "    # we negate as score is optimized to be as low as possible\n",
    "    return -adjusted_r2_score(train_y, pred_y, model)\n",
    "\n",
    "allVariables = train_X.columns\n",
    "results = exhaustive_search(allVariables, train_model, score_model)\n",
    "\n",
    "data = []\n",
    "for result in results:\n",
    "    model = result['model']\n",
    "    variables = result['variables']\n",
    "    AIC = AIC_score(train_y, model.predict(train_X[variables]), model)\n",
    "    \n",
    "    d = {'n': result['n'], 'r2adj': -result['score'], 'AIC': AIC}\n",
    "    d.update({var: var in result['variables'] for var in allVariables})\n",
    "    data.append(d)\n",
    "pd.set_option('display.width', 200)\n",
    "print(pd.DataFrame(data, columns=('n', 'r2adj', 'AIC') + tuple(sorted(allVariables))))\n",
    "pd.reset_option('display.width')\n",
    "\n",
    "\n",
    "print(pd.DataFrame(data).columns)\n",
    "\n",
    "air_exhaust=['COUPON', 'NEW', 'HI', 'S_INCOME', 'E_INCOME','S_POP', 'E_POP', 'DISTANCE', 'VACATION_Yes', 'SW_Yes', 'SLOT_Free','GATE_Free']\n",
    "print(\"\\n \\n Best variables according to exhaustive model: \\n\",air_exhaust)\n",
    "regressionSummary(valid_y, model.predict(valid_X))"
   ]
  },
  {
   "cell_type": "markdown",
   "metadata": {},
   "source": [
    "Exhaustive Search is almost similar to forward search but latter one is cheaper. With help of Exhaustive search, the backend encoder will generate subframes for every order and use the smallest. This search begins with best one-component subset of input features, then continues with best second-component, goes on with third best component subset.\n",
    "\n",
    "As shown, best variables are declared with exhaustive_search function. Also, regression summary is calculated for validation dataset."
   ]
  },
  {
   "cell_type": "markdown",
   "metadata": {},
   "source": [
    "## 6Question"
   ]
  },
  {
   "cell_type": "markdown",
   "metadata": {},
   "source": [
    "Compare the predictive accuracy of both models—stepwise selection and \n",
    "exhaustive search—using measures such as RMSE and average error."
   ]
  },
  {
   "cell_type": "code",
   "execution_count": null,
   "metadata": {},
   "outputs": [],
   "source": [
    "print(\"Train Results for Ridge Regressor Model:\")\n",
    "print(50 * '-')\n",
    "print(\"Root mean squared error: \", sqrt(mse(train_y.values, pred_y)))\n",
    "print(\"Mean absolute % error: \", round(mean_absolute_percentage_error(train_y.values, pred_y)))\n",
    "print(\"R-squared: \", r2_score(train_y.values, pred_y))"
   ]
  },
  {
   "cell_type": "markdown",
   "metadata": {},
   "source": [
    "## 7Question"
   ]
  },
  {
   "cell_type": "markdown",
   "metadata": {},
   "source": [
    "Using the exhaustive search model, predict the average fare on a route with the \n",
    "following characteristics: COUPON = 1.202, NEW = 3, VACATION = No, SW = \n",
    "No, HI = 4442.141, S_INCOME = $28,760, E_INCOME = $27,664, S_POP = \n",
    "4,557,004, E_POP = 3,195,503, SLOT = Free, GATE = Free, PAX = 12,782, \n",
    "DISTANCE = 1976 miles. "
   ]
  },
  {
   "cell_type": "code",
   "execution_count": 190,
   "metadata": {},
   "outputs": [
    {
     "data": {
      "text/plain": [
       "LinearRegression()"
      ]
     },
     "execution_count": 190,
     "metadata": {},
     "output_type": "execute_result"
    }
   ],
   "source": [
    "E_model = LinearRegression()\n",
    "E_model.fit(train_X[air_exhaust], train_y)"
   ]
  },
  {
   "cell_type": "code",
   "execution_count": 195,
   "metadata": {},
   "outputs": [],
   "source": [
    "Variable_df = pd.DataFrame({\n",
    "                    \"COUPON\":[1.202],\n",
    "                    \"NEW\":[3],\n",
    "                    \"HI\":[4442.141],\n",
    "                    \"S_INCOME\":[28760],\n",
    "                    \"E_INCOME\":[27664],\n",
    "                    \"S_POP\":[4557004],\n",
    "                    \"E_POP\":[3195503],\n",
    "                    \"DISTANCE\":[1976],\n",
    "                    \"VACATION\":[0],\n",
    "                    \"SW\":[0],\n",
    "                    \"SLOT_Free\":[1],\n",
    "                    \"GATE_Free\":[1]})"
   ]
  },
  {
   "cell_type": "code",
   "execution_count": 194,
   "metadata": {
    "scrolled": true
   },
   "outputs": [
    {
     "name": "stdout",
     "output_type": "stream",
     "text": [
      "Average fare predicted value according to the new given values:\t [342.35310464]\n"
     ]
    },
    {
     "name": "stderr",
     "output_type": "stream",
     "text": [
      "C:\\Users\\Amulya\\AppData\\Local\\Programs\\Python\\Python310\\lib\\site-packages\\sklearn\\base.py:493: FutureWarning: The feature names should match those that were passed during fit. Starting version 1.2, an error will be raised.\n",
      "Feature names unseen at fit time:\n",
      "- SW\n",
      "- VACATION\n",
      "Feature names seen at fit time, yet now missing:\n",
      "- SW_Yes\n",
      "- VACATION_Yes\n",
      "\n",
      "  warnings.warn(message, FutureWarning)\n"
     ]
    }
   ],
   "source": [
    "\n",
    "E_predict = E_model.predict(Variable_df)\n",
    "print(\"Average fare predicted value according to the new given values:\\t\",E_predict)\n"
   ]
  },
  {
   "cell_type": "markdown",
   "metadata": {},
   "source": [
    "To calculate average fare predicted value, input (independent) variable values for the selected variabls are provided in the dataframe as shown. Linear regression is performed and fit function is applied to get the ideal regression line for the input and output data. The final target value is predicted by using predict function i.e., 342.35."
   ]
  },
  {
   "cell_type": "markdown",
   "metadata": {},
   "source": [
    "## 8Question"
   ]
  },
  {
   "cell_type": "markdown",
   "metadata": {},
   "source": [
    "Predict the reduction in average fare on the route in question (7.), if Southwest \n",
    "decides to serve this route."
   ]
  },
  {
   "cell_type": "code",
   "execution_count": 196,
   "metadata": {},
   "outputs": [],
   "source": [
    "Variable2_df = pd.DataFrame({\n",
    "                    \"COUPON\":[1.202],\n",
    "                    \"NEW\":[3],\n",
    "                    \"HI\":[4442.141],\n",
    "                    \"S_INCOME\":[28760],\n",
    "                    \"E_INCOME\":[27664],\n",
    "                    \"S_POP\":[4557004],\n",
    "                    \"E_POP\":[3195503],\n",
    "                    \"DISTANCE\":[1976],\n",
    "                    \"VACATION\":[0],\n",
    "                    \"SW\":[1],\n",
    "                    \"SLOT_Free\":[1],\n",
    "                    \"GATE_Free\":[1]})"
   ]
  },
  {
   "cell_type": "code",
   "execution_count": 198,
   "metadata": {
    "scrolled": true
   },
   "outputs": [
    {
     "name": "stdout",
     "output_type": "stream",
     "text": [
      "Average fare predicted value according to the SW decides to serve this route:\t [342.35310464]\n",
      "Reduced fare [50.6505035]\n"
     ]
    },
    {
     "name": "stderr",
     "output_type": "stream",
     "text": [
      "C:\\Users\\Amulya\\AppData\\Local\\Programs\\Python\\Python310\\lib\\site-packages\\sklearn\\base.py:493: FutureWarning: The feature names should match those that were passed during fit. Starting version 1.2, an error will be raised.\n",
      "Feature names unseen at fit time:\n",
      "- SW\n",
      "- VACATION\n",
      "Feature names seen at fit time, yet now missing:\n",
      "- SW_Yes\n",
      "- VACATION_Yes\n",
      "\n",
      "  warnings.warn(message, FutureWarning)\n"
     ]
    }
   ],
   "source": [
    "\n",
    "E_predict2= E_model.predict(Variable2_df)\n",
    "print(\"Average fare predicted value according to the SW decides to serve this route:\\t\",E_predict)\n",
    "print(\"Reduced fare\",E_predict-E_predict2)"
   ]
  },
  {
   "cell_type": "markdown",
   "metadata": {},
   "source": [
    "Similar to last step, value for the SW (i.e., SouthWest) is changed to 1,\n",
    "as it is decided to serve the route. Upon calculation with help of using\n",
    "predict function, we obtain value approximately as 392.9. So, reduced fare difference is\n",
    "50.65 \n"
   ]
  },
  {
   "cell_type": "markdown",
   "metadata": {},
   "source": []
  }
 ],
 "metadata": {
  "interpreter": {
   "hash": "4917425ca6b042c181b1f0b9d0db793c438790ac5b24dc9c7df0a06808070126"
  },
  "kernelspec": {
   "display_name": "Python 3",
   "language": "python",
   "name": "python3"
  },
  "language_info": {
   "codemirror_mode": {
    "name": "ipython",
    "version": 3
   },
   "file_extension": ".py",
   "mimetype": "text/x-python",
   "name": "python",
   "nbconvert_exporter": "python",
   "pygments_lexer": "ipython3",
   "version": "3.8.8"
  }
 },
 "nbformat": 4,
 "nbformat_minor": 2
}
